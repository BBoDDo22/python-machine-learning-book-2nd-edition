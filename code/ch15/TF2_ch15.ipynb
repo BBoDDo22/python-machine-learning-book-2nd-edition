{
 "cells": [
  {
   "cell_type": "markdown",
   "metadata": {},
   "source": [
    "# 15장. 심층 합성곱 신경망으로 이미지 분류하기"
   ]
  },
  {
   "cell_type": "code",
   "execution_count": 1,
   "metadata": {},
   "outputs": [
    {
     "name": "stdout",
     "output_type": "stream",
     "text": [
      "2019-02-22 \n",
      "\n",
      "numpy 1.15.4\n",
      "scipy 1.2.0\n",
      "tensorflow 2.0.0-dev20190218\n"
     ]
    }
   ],
   "source": [
    "%load_ext watermark\n",
    "%watermark -d -p numpy,scipy,tensorflow"
   ]
  },
  {
   "cell_type": "markdown",
   "metadata": {},
   "source": [
    "# 합성곱 신경망의 구성 요소"
   ]
  },
  {
   "cell_type": "markdown",
   "metadata": {},
   "source": [
    "## CNN과 특성의 계층을 학습하기"
   ]
  },
  {
   "cell_type": "markdown",
   "metadata": {},
   "source": [
    "## 이산 합성곱 수행하기"
   ]
  },
  {
   "cell_type": "markdown",
   "metadata": {},
   "source": [
    "###  1차원 이산 합성곱 연산 수행하기"
   ]
  },
  {
   "cell_type": "markdown",
   "metadata": {},
   "source": [
    "### 합성곱에서 제로 패딩의 효과"
   ]
  },
  {
   "cell_type": "markdown",
   "metadata": {},
   "source": [
    "### 합성곱 출력 크기 계산하기"
   ]
  },
  {
   "cell_type": "code",
   "execution_count": 2,
   "metadata": {},
   "outputs": [
    {
     "name": "stdout",
     "output_type": "stream",
     "text": [
      "Conv1d 구현:  [ 5. 14. 16. 26. 24. 34. 19. 22.]\n",
      "넘파이 결과:  [ 5 14 16 26 24 34 19 22]\n"
     ]
    }
   ],
   "source": [
    "import numpy as np\n",
    "\n",
    "\n",
    "def conv1d(x, w, p=0, s=1):\n",
    "    w_rot = np.array(w[::-1])\n",
    "    x_padded = np.array(x)\n",
    "    if p > 0:\n",
    "        zero_pad = np.zeros(shape=p)\n",
    "        x_padded = np.concatenate([zero_pad, x_padded, zero_pad])\n",
    "    res = []\n",
    "    for i in range(0, int(len(x)/s),s):\n",
    "        res.append(np.sum(x_padded[i:i+w_rot.shape[0]] * w_rot))\n",
    "    return np.array(res)\n",
    "\n",
    "## 테스트:\n",
    "x = [1, 3, 2, 4, 5, 6, 1, 3]\n",
    "w = [1, 0, 3, 1, 2]\n",
    "print('Conv1d 구현: ', \n",
    "      conv1d(x, w, p=2, s=1))\n",
    "print('넘파이 결과: ', \n",
    "      np.convolve(x, w, mode='same'))"
   ]
  },
  {
   "cell_type": "markdown",
   "metadata": {},
   "source": [
    "### 2D 이산 합성곱 수행하기"
   ]
  },
  {
   "cell_type": "code",
   "execution_count": 3,
   "metadata": {},
   "outputs": [
    {
     "name": "stdout",
     "output_type": "stream",
     "text": [
      "Conv2d 구현: \n",
      " [[11. 25. 32. 13.]\n",
      " [19. 25. 24. 13.]\n",
      " [13. 28. 25. 17.]\n",
      " [11. 17. 14.  9.]]\n",
      "사이파이 결과: \n",
      " [[11 25 32 13]\n",
      " [19 25 24 13]\n",
      " [13 28 25 17]\n",
      " [11 17 14  9]]\n"
     ]
    }
   ],
   "source": [
    "import numpy as np\n",
    "import scipy.signal\n",
    "\n",
    "\n",
    "def conv2d(X, W, p=(0,0), s=(1,1)):\n",
    "    W_rot = np.array(W)[::-1,::-1]\n",
    "    X_orig = np.array(X)\n",
    "    n1 = X_orig.shape[0] + 2*p[0]\n",
    "    n2 = X_orig.shape[1] + 2*p[1]\n",
    "    X_padded = np.zeros(shape=(n1,n2))\n",
    "    X_padded[p[0]:p[0] + X_orig.shape[0], \n",
    "             p[1]:p[1] + X_orig.shape[1]] = X_orig\n",
    "\n",
    "    res = []\n",
    "    for i in range(0, int((X_padded.shape[0] - \n",
    "                           W_rot.shape[0])/s[0])+1, s[0]):\n",
    "        res.append([])\n",
    "        for j in range(0, int((X_padded.shape[1] - \n",
    "                               W_rot.shape[1])/s[1])+1, s[1]):\n",
    "            X_sub = X_padded[i:i+W_rot.shape[0], j:j+W_rot.shape[1]]\n",
    "            res[-1].append(np.sum(X_sub * W_rot))\n",
    "    return(np.array(res))\n",
    "    \n",
    "X = [[1, 3, 2, 4], [5, 6, 1, 3], [1 , 2,0, 2], [3, 4, 3, 2]]\n",
    "W = [[1, 0, 3], [1, 2, 1], [0, 1, 1]]\n",
    "print('Conv2d 구현: \\n', \n",
    "      conv2d(X, W, p=(1,1), s=(1,1)))\n",
    "\n",
    "print('사이파이 결과: \\n', \n",
    "      scipy.signal.convolve2d(X, W, mode='same'))"
   ]
  },
  {
   "cell_type": "markdown",
   "metadata": {},
   "source": [
    "## 서브샘플링"
   ]
  },
  {
   "cell_type": "markdown",
   "metadata": {},
   "source": [
    "# 기본 구성 요소를 사용하여 CNN 구성하기"
   ]
  },
  {
   "cell_type": "markdown",
   "metadata": {},
   "source": [
    "## 여러 개의 입력 또는 컬러 채널을 다루기"
   ]
  },
  {
   "cell_type": "code",
   "execution_count": 4,
   "metadata": {},
   "outputs": [
    {
     "name": "stdout",
     "output_type": "stream",
     "text": [
      "이미지 크기: (252, 221, 3)\n",
      "채널 수: 3\n",
      "이미지 데이터 타입: uint8\n",
      "[[[179 134 110]\n",
      "  [182 136 112]]\n",
      "\n",
      " [[180 135 111]\n",
      "  [182 137 113]]]\n"
     ]
    }
   ],
   "source": [
    "# imageio.imread replaces\n",
    "# scipy.misc.imread in scipy >= 1.2.0\n",
    "\n",
    "import imageio\n",
    "\n",
    "img = imageio.imread('./example-image.png', pilmode='RGB')\n",
    "    \n",
    "print('이미지 크기:', img.shape)\n",
    "print('채널 수:', img.shape[2])\n",
    "print('이미지 데이터 타입:', img.dtype)\n",
    "\n",
    "print(img[100:102, 100:102, :])"
   ]
  },
  {
   "cell_type": "markdown",
   "metadata": {},
   "source": [
    "## 드롭아웃으로 신경망 규제하기"
   ]
  },
  {
   "cell_type": "markdown",
   "metadata": {},
   "source": [
    "# 텐서플로를 사용해 심층 합성곱 신경망 구현하기"
   ]
  },
  {
   "cell_type": "markdown",
   "metadata": {},
   "source": [
    "## 다층 CNN 구조"
   ]
  },
  {
   "cell_type": "markdown",
   "metadata": {},
   "source": [
    "## 데이터 적재와 전처리"
   ]
  },
  {
   "cell_type": "code",
   "execution_count": 5,
   "metadata": {},
   "outputs": [],
   "source": [
    "## unzips mnist\n",
    "\n",
    "import sys\n",
    "import gzip\n",
    "import shutil\n",
    "import os\n",
    "\n",
    "\n",
    "if (sys.version_info > (3, 0)):\n",
    "    writemode = 'wb'\n",
    "else:\n",
    "    writemode = 'w'\n",
    "\n",
    "zipped_mnist = [f for f in os.listdir('./')\n",
    "                if f.endswith('ubyte.gz')]\n",
    "for z in zipped_mnist:\n",
    "    with gzip.GzipFile(z, mode='rb') as decompressed, open(z[:-3], writemode) as outfile:\n",
    "        outfile.write(decompressed.read())"
   ]
  },
  {
   "cell_type": "code",
   "execution_count": 6,
   "metadata": {},
   "outputs": [
    {
     "name": "stdout",
     "output_type": "stream",
     "text": [
      "행: 60000,  열: 784\n",
      "행: 10000,  열: 784\n",
      "훈련 세트:  (50000, 784) (50000,)\n",
      "검증 세트:  (10000, 784) (10000,)\n",
      "테스트 세트:  (10000, 784) (10000,)\n"
     ]
    }
   ],
   "source": [
    "import struct\n",
    "import numpy as np\n",
    "\n",
    "\n",
    "def load_mnist(path, kind='train'):\n",
    "    \"\"\"Load MNIST data from `path`\"\"\"\n",
    "    labels_path = os.path.join(path,\n",
    "                               '%s-labels-idx1-ubyte'\n",
    "                                % kind)\n",
    "    images_path = os.path.join(path,\n",
    "                               '%s-images-idx3-ubyte'\n",
    "                               % kind)\n",
    "\n",
    "    with open(labels_path, 'rb') as lbpath:\n",
    "        magic, n = struct.unpack('>II',\n",
    "                                 lbpath.read(8))\n",
    "        labels = np.fromfile(lbpath,\n",
    "                             dtype=np.uint8)\n",
    "\n",
    "    with open(images_path, 'rb') as imgpath:\n",
    "        magic, num, rows, cols = struct.unpack(\">IIII\",\n",
    "                                               imgpath.read(16))\n",
    "        images = np.fromfile(imgpath,\n",
    "                             dtype=np.uint8).reshape(len(labels), 784)\n",
    "\n",
    "    return images, labels\n",
    "\n",
    "\n",
    "X_data, y_data = load_mnist('./', kind='train')\n",
    "print('행: %d,  열: %d' % (X_data.shape[0], X_data.shape[1]))\n",
    "X_test, y_test = load_mnist('./', kind='t10k')\n",
    "print('행: %d,  열: %d' % (X_test.shape[0], X_test.shape[1]))\n",
    "\n",
    "X_train, y_train = X_data[:50000,:], y_data[:50000]\n",
    "X_valid, y_valid = X_data[50000:,:], y_data[50000:]\n",
    "\n",
    "print('훈련 세트: ', X_train.shape, y_train.shape)\n",
    "print('검증 세트: ', X_valid.shape, y_valid.shape)\n",
    "print('테스트 세트: ', X_test.shape, y_test.shape)"
   ]
  },
  {
   "cell_type": "code",
   "execution_count": 7,
   "metadata": {},
   "outputs": [],
   "source": [
    "mean_vals = np.mean(X_train, axis=0)\n",
    "std_val = np.std(X_train)\n",
    "\n",
    "X_train_centered = (X_train - mean_vals)/std_val\n",
    "X_valid_centered = (X_valid - mean_vals)/std_val\n",
    "X_test_centered = (X_test - mean_vals)/std_val"
   ]
  },
  {
   "cell_type": "code",
   "execution_count": 8,
   "metadata": {},
   "outputs": [],
   "source": [
    "X_train_centered = X_train_centered.reshape((-1, 28, 28, 1))\n",
    "X_valid_centered = X_valid_centered.reshape((-1, 28, 28, 1))\n",
    "X_test_centered = X_test_centered.reshape((-1, 28, 28, 1))"
   ]
  },
  {
   "cell_type": "code",
   "execution_count": 9,
   "metadata": {},
   "outputs": [],
   "source": [
    "from tensorflow.keras.utils import to_categorical\n",
    "\n",
    "y_train_onehot = to_categorical(y_train)\n",
    "y_valid_onehot = to_categorical(y_valid)\n",
    "y_test_onehot = to_categorical(y_test)"
   ]
  },
  {
   "cell_type": "code",
   "execution_count": 10,
   "metadata": {},
   "outputs": [
    {
     "name": "stdout",
     "output_type": "stream",
     "text": [
      "5 [0. 0. 0. 0. 0. 1. 0. 0. 0. 0.]\n"
     ]
    }
   ],
   "source": [
    "print(y_train[0], y_train_onehot[0])"
   ]
  },
  {
   "cell_type": "code",
   "execution_count": 11,
   "metadata": {},
   "outputs": [
    {
     "name": "stdout",
     "output_type": "stream",
     "text": [
      "훈련 세트:  (50000, 28, 28, 1) (50000, 10)\n",
      "검증 세트:  (10000, 28, 28, 1) (10000, 10)\n",
      "테스트 세트:  (10000, 28, 28, 1) (10000, 10)\n"
     ]
    }
   ],
   "source": [
    "print('훈련 세트: ', X_train_centered.shape, y_train_onehot.shape)\n",
    "print('검증 세트: ', X_valid_centered.shape, y_valid_onehot.shape)\n",
    "print('테스트 세트: ', X_test_centered.shape, y_test_onehot.shape)"
   ]
  },
  {
   "cell_type": "markdown",
   "metadata": {},
   "source": [
    "## 텐서플로 Keras API로 CNN 구성하기"
   ]
  },
  {
   "cell_type": "code",
   "execution_count": 12,
   "metadata": {},
   "outputs": [],
   "source": [
    "from tensorflow.keras import layers, models"
   ]
  },
  {
   "cell_type": "code",
   "execution_count": 13,
   "metadata": {},
   "outputs": [],
   "source": [
    "model = models.Sequential()"
   ]
  },
  {
   "cell_type": "code",
   "execution_count": 14,
   "metadata": {},
   "outputs": [],
   "source": [
    "model.add(layers.Conv2D(32, (5, 5), padding='valid', \n",
    "                        activation='relu', input_shape=(28, 28, 1)))\n",
    "model.add(layers.MaxPool2D((2, 2)))\n",
    "model.add(layers.Conv2D(64, (5, 5), padding='valid', \n",
    "                        activation='relu'))\n",
    "model.add(layers.MaxPool2D((2, 2)))\n",
    "model.add(layers.Flatten())\n",
    "model.add(layers.Dense(1024, activation='relu'))\n",
    "model.add(layers.Dropout(0.5))\n",
    "model.add(layers.Dense(10, activation='softmax'))"
   ]
  },
  {
   "cell_type": "code",
   "execution_count": 15,
   "metadata": {},
   "outputs": [
    {
     "name": "stdout",
     "output_type": "stream",
     "text": [
      "Model: \"sequential\"\n",
      "_________________________________________________________________\n",
      "Layer (type)                 Output Shape              Param #   \n",
      "=================================================================\n",
      "conv2d (Conv2D)              (None, 24, 24, 32)        832       \n",
      "_________________________________________________________________\n",
      "max_pooling2d (MaxPooling2D) (None, 12, 12, 32)        0         \n",
      "_________________________________________________________________\n",
      "conv2d_1 (Conv2D)            (None, 8, 8, 64)          51264     \n",
      "_________________________________________________________________\n",
      "max_pooling2d_1 (MaxPooling2 (None, 4, 4, 64)          0         \n",
      "_________________________________________________________________\n",
      "flatten (Flatten)            (None, 1024)              0         \n",
      "_________________________________________________________________\n",
      "dense (Dense)                (None, 1024)              1049600   \n",
      "_________________________________________________________________\n",
      "dropout (Dropout)            (None, 1024)              0         \n",
      "_________________________________________________________________\n",
      "dense_1 (Dense)              (None, 10)                10250     \n",
      "=================================================================\n",
      "Total params: 1,111,946\n",
      "Trainable params: 1,111,946\n",
      "Non-trainable params: 0\n",
      "_________________________________________________________________\n"
     ]
    }
   ],
   "source": [
    "model.summary()"
   ]
  },
  {
   "cell_type": "markdown",
   "metadata": {},
   "source": [
    "## 합성곱 신경망 모델 훈련하기"
   ]
  },
  {
   "cell_type": "code",
   "execution_count": 16,
   "metadata": {},
   "outputs": [],
   "source": [
    "model.compile(loss='categorical_crossentropy', \n",
    "              optimizer='adam', metrics=['acc'])"
   ]
  },
  {
   "cell_type": "code",
   "execution_count": 17,
   "metadata": {},
   "outputs": [],
   "source": [
    "import time\n",
    "from tensorflow.keras.callbacks import ModelCheckpoint, TensorBoard\n",
    "\n",
    "callback_list = [ModelCheckpoint(filepath='cnn_checkpoint.h5', \n",
    "                                 monitor='val_loss', \n",
    "                                 save_best_only=True), \n",
    "                 TensorBoard(log_dir=\"logs/{}\".format(time.asctime()))]"
   ]
  },
  {
   "cell_type": "code",
   "execution_count": 18,
   "metadata": {},
   "outputs": [
    {
     "name": "stdout",
     "output_type": "stream",
     "text": [
      "Train on 50000 samples, validate on 10000 samples\n",
      "Epoch 1/20\n",
      "50000/50000==============================] - 16s 324us/sample - loss: 0.1370 - acc: 0.9571 - val_loss: 0.0755 - val_acc: 0.9766\n",
      "Epoch 2/20\n",
      "50000/50000==============================] - 16s 318us/sample - loss: 0.0501 - acc: 0.9842 - val_loss: 0.0370 - val_acc: 0.9895\n",
      "Epoch 3/20\n",
      "50000/50000==============================] - 16s 316us/sample - loss: 0.0357 - acc: 0.9891 - val_loss: 0.0379 - val_acc: 0.9885\n",
      "Epoch 4/20\n",
      "50000/50000==============================] - 16s 316us/sample - loss: 0.0279 - acc: 0.9913 - val_loss: 0.0356 - val_acc: 0.9909\n",
      "Epoch 5/20\n",
      "50000/50000==============================] - 16s 313us/sample - loss: 0.0247 - acc: 0.9924 - val_loss: 0.0371 - val_acc: 0.9907\n",
      "Epoch 6/20\n",
      "50000/50000==============================] - 16s 316us/sample - loss: 0.0215 - acc: 0.9933 - val_loss: 0.0405 - val_acc: 0.9909\n",
      "Epoch 7/20\n",
      "50000/50000==============================] - 16s 316us/sample - loss: 0.0164 - acc: 0.9946 - val_loss: 0.0439 - val_acc: 0.9898\n",
      "Epoch 8/20\n",
      "50000/50000==============================] - 16s 313us/sample - loss: 0.0167 - acc: 0.9947 - val_loss: 0.0453 - val_acc: 0.9884\n",
      "Epoch 9/20\n",
      "50000/50000==============================] - 16s 315us/sample - loss: 0.0168 - acc: 0.9947 - val_loss: 0.0625 - val_acc: 0.9863\n",
      "Epoch 10/20\n",
      "50000/50000==============================] - 16s 318us/sample - loss: 0.0152 - acc: 0.9955 - val_loss: 0.0538 - val_acc: 0.9893\n",
      "Epoch 11/20\n",
      "50000/50000==============================] - 16s 317us/sample - loss: 0.0126 - acc: 0.9961 - val_loss: 0.0512 - val_acc: 0.9907\n",
      "Epoch 12/20\n",
      "50000/50000==============================] - 16s 314us/sample - loss: 0.0128 - acc: 0.9962 - val_loss: 0.0405 - val_acc: 0.9909\n",
      "Epoch 13/20\n",
      "50000/50000==============================] - 16s 313us/sample - loss: 0.0121 - acc: 0.9963 - val_loss: 0.0574 - val_acc: 0.9892\n",
      "Epoch 14/20\n",
      "50000/50000==============================] - 16s 315us/sample - loss: 0.0131 - acc: 0.9961 - val_loss: 0.0648 - val_acc: 0.9896\n",
      "Epoch 15/20\n",
      "50000/50000==============================] - 16s 315us/sample - loss: 0.0083 - acc: 0.9972 - val_loss: 0.0546 - val_acc: 0.9908\n",
      "Epoch 16/20\n",
      "50000/50000==============================] - 16s 315us/sample - loss: 0.0116 - acc: 0.9969 - val_loss: 0.0520 - val_acc: 0.9915\n",
      "Epoch 17/20\n",
      "50000/50000==============================] - 16s 315us/sample - loss: 0.0102 - acc: 0.9972 - val_loss: 0.0551 - val_acc: 0.9907\n",
      "Epoch 18/20\n",
      "50000/50000==============================] - 16s 314us/sample - loss: 0.0101 - acc: 0.9972 - val_loss: 0.0671 - val_acc: 0.9895\n",
      "Epoch 19/20\n",
      "50000/50000==============================] - 16s 315us/sample - loss: 0.0122 - acc: 0.9971 - val_loss: 0.0636 - val_acc: 0.9916\n",
      "Epoch 20/20\n",
      "50000/50000==============================] - 16s 315us/sample - loss: 0.0093 - acc: 0.9974 - val_loss: 0.0568 - val_acc: 0.9909\n"
     ]
    }
   ],
   "source": [
    "history = model.fit(X_train_centered, y_train_onehot, \n",
    "                    batch_size=64, epochs=20, \n",
    "                    validation_data=(X_valid_centered, y_valid_onehot),\n",
    "                    callbacks=callback_list)"
   ]
  },
  {
   "cell_type": "code",
   "execution_count": 19,
   "metadata": {},
   "outputs": [],
   "source": [
    "import matplotlib.pyplot as plt"
   ]
  },
  {
   "cell_type": "code",
   "execution_count": 20,
   "metadata": {
    "scrolled": true
   },
   "outputs": [
    {
     "data": {
      "image/png": "[encoded data removed]",
      "text/plain": [
       "<Figure size 432x288 with 1 Axes>"
      ]
     },
     "metadata": {
      "needs_background": "light"
     },
     "output_type": "display_data"
    }
   ],
   "source": [
    "epochs = np.arange(1, 21)\n",
    "plt.plot(epochs, history.history['loss'])\n",
    "plt.plot(epochs, history.history['val_loss'])\n",
    "plt.xlabel('epochs')\n",
    "plt.ylabel('loss')\n",
    "plt.show()"
   ]
  },
  {
   "cell_type": "code",
   "execution_count": 21,
   "metadata": {},
   "outputs": [
    {
     "data": {
      "image/png": "[encoded data removed]",
      "text/plain": [
       "<Figure size 432x288 with 1 Axes>"
      ]
     },
     "metadata": {
      "needs_background": "light"
     },
     "output_type": "display_data"
    }
   ],
   "source": [
    "plt.plot(epochs, history.history['acc'])\n",
    "plt.plot(epochs, history.history['val_acc'])\n",
    "plt.xlabel('epochs')\n",
    "plt.ylabel('accuracy')\n",
    "plt.show()"
   ]
  },
  {
   "cell_type": "code",
   "execution_count": 22,
   "metadata": {},
   "outputs": [
    {
     "name": "stdout",
     "output_type": "stream",
     "text": [
      "합계 32\r\n",
      "drwxr-xr-x 8 haesun haesun 4096  2월 22 14:01  .\r\n",
      "drwxr-xr-x 4 haesun haesun 4096  2월 22 14:05  ..\r\n",
      "drwxr-xr-x 4 haesun haesun 4096  2월 22 14:01 'Fri Feb 22 14:01:20 2019'\r\n",
      "drwxr-xr-x 4 haesun haesun 4096  2월 21 13:21 'Thu Feb 21 13:21:44 2019'\r\n",
      "drwxr-xr-x 4 haesun haesun 4096  2월 21 17:42 'Thu Feb 21 17:42:10 2019'\r\n",
      "drwxr-xr-x 4 haesun haesun 4096  2월 21 18:22 'Thu Feb 21 18:22:59 2019'\r\n",
      "drwxr-xr-x 4 haesun haesun 4096  2월 20 17:29 'Wed Feb 20 17:28:59 2019'\r\n",
      "drwxr-xr-x 4 haesun haesun 4096  2월 20 20:30 'Wed Feb 20 20:30:19 2019'\r\n"
     ]
    }
   ],
   "source": [
    "!ls -al logs/"
   ]
  },
  {
   "cell_type": "markdown",
   "metadata": {},
   "source": [
    "모델 저장"
   ]
  },
  {
   "cell_type": "code",
   "execution_count": 23,
   "metadata": {},
   "outputs": [],
   "source": [
    "model.save('cnn_model.h5')"
   ]
  },
  {
   "cell_type": "markdown",
   "metadata": {},
   "source": [
    "모델 복원"
   ]
  },
  {
   "cell_type": "code",
   "execution_count": 24,
   "metadata": {},
   "outputs": [],
   "source": [
    "from tensorflow.keras.models import load_model\n",
    "\n",
    "restored_model = load_model('cnn_model.h5')\n",
    "restored_model.load_weights('cnn_checkpoint.h5')"
   ]
  },
  {
   "cell_type": "markdown",
   "metadata": {},
   "source": [
    "테스트 정확도 확인"
   ]
  },
  {
   "cell_type": "code",
   "execution_count": 25,
   "metadata": {},
   "outputs": [
    {
     "name": "stdout",
     "output_type": "stream",
     "text": [
      "10000/10000==============================] - 1s 100us/sample - loss: 0.0285 - acc: 0.9916\n"
     ]
    },
    {
     "data": {
      "text/plain": [
       "[0.02849663775744848, 0.9916]"
      ]
     },
     "execution_count": 25,
     "metadata": {},
     "output_type": "execute_result"
    }
   ],
   "source": [
    "restored_model.evaluate(X_test_centered, y_test_onehot)"
   ]
  },
  {
   "cell_type": "markdown",
   "metadata": {},
   "source": [
    "테스트 샘플 예측 확인 + 이미지 출력"
   ]
  },
  {
   "cell_type": "code",
   "execution_count": 26,
   "metadata": {},
   "outputs": [
    {
     "data": {
      "text/plain": [
       "array([7, 2, 1, 0, 4, 1, 4, 9, 5, 9])"
      ]
     },
     "execution_count": 26,
     "metadata": {},
     "output_type": "execute_result"
    }
   ],
   "source": [
    "np.argmax(restored_model.predict(X_test_centered[:10]), axis=1)"
   ]
  },
  {
   "cell_type": "code",
   "execution_count": 27,
   "metadata": {},
   "outputs": [
    {
     "data": {
      "text/plain": [
       "array([7, 2, 1, 0, 4, 1, 4, 9, 5, 9], dtype=uint8)"
      ]
     },
     "execution_count": 27,
     "metadata": {},
     "output_type": "execute_result"
    }
   ],
   "source": [
    "y_test[:10]"
   ]
  },
  {
   "cell_type": "code",
   "execution_count": 28,
   "metadata": {},
   "outputs": [
    {
     "data": {
      "image/png": "[encoded data removed]",
      "text/plain": [
       "<Figure size 720x360 with 10 Axes>"
      ]
     },
     "metadata": {
      "needs_background": "light"
     },
     "output_type": "display_data"
    }
   ],
   "source": [
    "fig = plt.figure(figsize=(10, 5))\n",
    "for i in range(10):\n",
    "    fig.add_subplot(2, 5, i+1)\n",
    "    plt.imshow(X_test_centered[i].reshape(28, 28))"
   ]
  },
  {
   "cell_type": "markdown",
   "metadata": {},
   "source": [
    "## 활성화 출력과 필터 시각화하기"
   ]
  },
  {
   "cell_type": "code",
   "execution_count": 29,
   "metadata": {},
   "outputs": [
    {
     "name": "stdout",
     "output_type": "stream",
     "text": [
      "<tensorflow.python.keras.layers.convolutional.Conv2D object at 0x7fd7d03d7b00>\n"
     ]
    }
   ],
   "source": [
    "first_layer = model.layers[0]\n",
    "print(first_layer)"
   ]
  },
  {
   "cell_type": "code",
   "execution_count": 30,
   "metadata": {},
   "outputs": [
    {
     "name": "stdout",
     "output_type": "stream",
     "text": [
      "Tensor(\"conv2d_input:0\", shape=(None, 28, 28, 1), dtype=float32)\n"
     ]
    }
   ],
   "source": [
    "print(model.input)"
   ]
  },
  {
   "cell_type": "code",
   "execution_count": 31,
   "metadata": {},
   "outputs": [],
   "source": [
    "first_activation = models.Model(inputs=model.input, \n",
    "                                outputs=first_layer.output)\n",
    "activation = first_activation.predict(X_test_centered[:10])"
   ]
  },
  {
   "cell_type": "code",
   "execution_count": 32,
   "metadata": {},
   "outputs": [
    {
     "name": "stdout",
     "output_type": "stream",
     "text": [
      "(10, 24, 24, 32)\n"
     ]
    }
   ],
   "source": [
    "print(activation.shape)"
   ]
  },
  {
   "cell_type": "code",
   "execution_count": 33,
   "metadata": {},
   "outputs": [
    {
     "data": {
      "image/png": "[encoded data removed]",
      "text/plain": [
       "<Figure size 720x1080 with 32 Axes>"
      ]
     },
     "metadata": {
      "needs_background": "light"
     },
     "output_type": "display_data"
    }
   ],
   "source": [
    "fig = plt.figure(figsize=(10, 15))\n",
    "for i in range(32):\n",
    "    fig.add_subplot(7, 5, i+1)\n",
    "    plt.imshow(activation[0, :, :, i])"
   ]
  },
  {
   "cell_type": "code",
   "execution_count": 34,
   "metadata": {},
   "outputs": [
    {
     "data": {
      "image/png": "[encoded data removed]",
      "text/plain": [
       "<Figure size 720x1080 with 32 Axes>"
      ]
     },
     "metadata": {
      "needs_background": "light"
     },
     "output_type": "display_data"
    }
   ],
   "source": [
    "fig = plt.figure(figsize=(10, 15))\n",
    "for i in range(32):\n",
    "    fig.add_subplot(7, 5, i+1)\n",
    "    plt.imshow(activation[3, :, :, i])"
   ]
  },
  {
   "cell_type": "code",
   "execution_count": 35,
   "metadata": {},
   "outputs": [
    {
     "data": {
      "image/png": "[encoded data removed]",
      "text/plain": [
       "<Figure size 720x1080 with 32 Axes>"
      ]
     },
     "metadata": {
      "needs_background": "light"
     },
     "output_type": "display_data"
    }
   ],
   "source": [
    "fig = plt.figure(figsize=(10, 15))\n",
    "for i in range(32):\n",
    "    fig.add_subplot(7, 5, i+1)\n",
    "    plt.imshow(first_layer.kernel[:, :, 0, i])"
   ]
  },
  {
   "cell_type": "markdown",
   "metadata": {},
   "source": [
    "20번 더 훈련"
   ]
  },
  {
   "cell_type": "code",
   "execution_count": 36,
   "metadata": {},
   "outputs": [
    {
     "name": "stdout",
     "output_type": "stream",
     "text": [
      "Train on 50000 samples, validate on 10000 samples\n",
      "Epoch 1/20\n",
      "50000/50000==============================] - 16s 316us/sample - loss: 0.0321 - acc: 0.9901 - val_loss: 0.0331 - val_acc: 0.9913\n",
      "Epoch 2/20\n",
      "50000/50000==============================] - 16s 314us/sample - loss: 0.0199 - acc: 0.9937 - val_loss: 0.0385 - val_acc: 0.9914\n",
      "Epoch 3/20\n",
      "50000/50000==============================] - 16s 313us/sample - loss: 0.0169 - acc: 0.9944 - val_loss: 0.0341 - val_acc: 0.9909\n",
      "Epoch 4/20\n",
      "50000/50000==============================] - 16s 314us/sample - loss: 0.0175 - acc: 0.9944 - val_loss: 0.0352 - val_acc: 0.9928\n",
      "Epoch 5/20\n",
      "50000/50000==============================] - 16s 312us/sample - loss: 0.0153 - acc: 0.9950 - val_loss: 0.0445 - val_acc: 0.9906\n",
      "Epoch 6/20\n",
      "50000/50000==============================] - 16s 313us/sample - loss: 0.0145 - acc: 0.9955 - val_loss: 0.0402 - val_acc: 0.9913\n",
      "Epoch 7/20\n",
      "50000/50000==============================] - 16s 313us/sample - loss: 0.0116 - acc: 0.9962 - val_loss: 0.0423 - val_acc: 0.9924\n",
      "Epoch 8/20\n",
      "50000/50000==============================] - 16s 313us/sample - loss: 0.0145 - acc: 0.9958 - val_loss: 0.0385 - val_acc: 0.9920\n",
      "Epoch 9/20\n",
      "50000/50000==============================] - 16s 313us/sample - loss: 0.0093 - acc: 0.9972 - val_loss: 0.0587 - val_acc: 0.9899\n",
      "Epoch 10/20\n",
      "50000/50000==============================] - 16s 313us/sample - loss: 0.0112 - acc: 0.9965 - val_loss: 0.0422 - val_acc: 0.9923\n",
      "Epoch 11/20\n",
      "50000/50000==============================] - 16s 312us/sample - loss: 0.0117 - acc: 0.9965 - val_loss: 0.0584 - val_acc: 0.9900\n",
      "Epoch 12/20\n",
      "50000/50000==============================] - 16s 312us/sample - loss: 0.0111 - acc: 0.9968 - val_loss: 0.0533 - val_acc: 0.9915\n",
      "Epoch 13/20\n",
      "50000/50000==============================] - 16s 313us/sample - loss: 0.0108 - acc: 0.9970 - val_loss: 0.0572 - val_acc: 0.9914\n",
      "Epoch 14/20\n",
      "50000/50000==============================] - 16s 313us/sample - loss: 0.0085 - acc: 0.9976 - val_loss: 0.0794 - val_acc: 0.9917\n",
      "Epoch 15/20\n",
      "50000/50000==============================] - 16s 313us/sample - loss: 0.0110 - acc: 0.9971 - val_loss: 0.0624 - val_acc: 0.9909\n",
      "Epoch 16/20\n",
      "50000/50000==============================] - 16s 312us/sample - loss: 0.0107 - acc: 0.9975 - val_loss: 0.0632 - val_acc: 0.9918\n",
      "Epoch 17/20\n",
      "50000/50000==============================] - 16s 312us/sample - loss: 0.0109 - acc: 0.9971 - val_loss: 0.0602 - val_acc: 0.9926\n",
      "Epoch 18/20\n",
      "50000/50000==============================] - 16s 312us/sample - loss: 0.0112 - acc: 0.9971 - val_loss: 0.0562 - val_acc: 0.9924\n",
      "Epoch 19/20\n",
      "50000/50000==============================] - 16s 314us/sample - loss: 0.0082 - acc: 0.9980 - val_loss: 0.0666 - val_acc: 0.9923\n",
      "Epoch 20/20\n",
      "50000/50000==============================] - 16s 312us/sample - loss: 0.0107 - acc: 0.9974 - val_loss: 0.0682 - val_acc: 0.9922\n"
     ]
    },
    {
     "data": {
      "text/plain": [
       "<tensorflow.python.keras.callbacks.History at 0x7fd730248c88>"
      ]
     },
     "execution_count": 36,
     "metadata": {},
     "output_type": "execute_result"
    }
   ],
   "source": [
    "restored_model.fit(X_train_centered, y_train_onehot, batch_size=64, epochs=20, \n",
    "                   validation_data=(X_valid_centered, y_valid_onehot))"
   ]
  }
 ],
 "metadata": {
  "kernelspec": {
   "display_name": "Python 3",
   "language": "python",
   "name": "python3"
  },
  "language_info": {
   "codemirror_mode": {
    "name": "ipython",
    "version": 3
   },
   "file_extension": ".py",
   "mimetype": "text/x-python",
   "name": "python",
   "nbconvert_exporter": "python",
   "pygments_lexer": "ipython3",
   "version": "3.6.7"
  }
 },
 "nbformat": 4,
 "nbformat_minor": 2
}
